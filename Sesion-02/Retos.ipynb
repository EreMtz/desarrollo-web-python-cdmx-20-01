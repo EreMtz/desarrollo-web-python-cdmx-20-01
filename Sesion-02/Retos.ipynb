{
 "cells": [
  {
   "cell_type": "markdown",
   "metadata": {},
   "source": [
    "# RETOS"
   ]
  },
  {
   "cell_type": "markdown",
   "metadata": {},
   "source": [
    "Reto 1: Modifica el script `claves.py` para que incluya cuando menos un símbolo `($%&/#@-_=+-*)` como parte de las claves.\n",
    "\n",
    "```\n",
    "$ python claves.py\n",
    "Número de claves a generar: 5\n",
    "Longitud de claves (8): 8\n",
    "U2$m=PE1\n",
    "R+w%8kA1\n",
    "$y3/tKHi\n",
    "7m&/OZ0M\n",
    "I1d/L-j-\n",
    "```"
   ]
  },
  {
   "cell_type": "markdown",
   "metadata": {},
   "source": [
    "Reto 2: Modifica el script `reservaciones.py` para que también imprima el total de la reservación.\n",
    "\n",
    "```\n",
    "--------------------------------------------------------\n",
    "CONCEPTO            | CANTIDAD | PRECIO    | SUBTOTAL \n",
    "--------------------------------------------------------\n",
    "Habitación doble    |        3 | 150000.00 | 450000.00\n",
    "Transporte          |        2 |   3000.00 |   6000.00\n",
    "Tour en lancha      |        1 |   2170.00 |   2170.00\n",
    "Alimentos y bebidas |        2 |   5000.00 |  10000.00\n",
    "--------------------------------------------------------\n",
    "                               |    Total: | 468170.00\n",
    "```"
   ]
  },
  {
   "cell_type": "markdown",
   "metadata": {},
   "source": [
    "Reto 3: Modifica el script `reservaciones.py` para que la impresión de la tabla se realice con la función `imprime_txt()`"
   ]
  },
  {
   "cell_type": "markdown",
   "metadata": {},
   "source": [
    "Reto 4: Modifica el script `reservaciones.py` para que ordene la tabla en base a la columna CANTIDAD.\n",
    "\n",
    "```\n",
    "--------------------------------------------------------\n",
    "CONCEPTO            | CANTIDAD | PRECIO    | SUBTOTAL \n",
    "--------------------------------------------------------\n",
    "Habitación doble    |        3 | 150000.00 | 450000.00\n",
    "Alimentos y bebidas |        2 |   5000.00 |  10000.00\n",
    "Transporte          |        2 |   3000.00 |   6000.00\n",
    "Tour en lancha      |        1 |   2170.00 |   2170.00\n",
    "--------------------------------------------------------\n",
    "                               |    Total: | 468170.00\n",
    "```"
   ]
  },
  {
   "cell_type": "code",
   "execution_count": null,
   "metadata": {},
   "outputs": [],
   "source": []
  }
 ],
 "metadata": {
  "kernelspec": {
   "display_name": "Python 3",
   "language": "python",
   "name": "python3"
  },
  "language_info": {
   "codemirror_mode": {
    "name": "ipython",
    "version": 3
   },
   "file_extension": ".py",
   "mimetype": "text/x-python",
   "name": "python",
   "nbconvert_exporter": "python",
   "pygments_lexer": "ipython3",
   "version": "3.7.4"
  }
 },
 "nbformat": 4,
 "nbformat_minor": 4
}
